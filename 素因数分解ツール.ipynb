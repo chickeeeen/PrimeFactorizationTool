{
  "nbformat": 4,
  "nbformat_minor": 0,
  "metadata": {
    "colab": {
      "name": "素因数分解ツール",
      "provenance": [],
      "authorship_tag": "ABX9TyMXZI6CoY1NZpuDBUF98IJA",
      "include_colab_link": true
    },
    "kernelspec": {
      "name": "python3",
      "display_name": "Python 3"
    },
    "language_info": {
      "name": "python"
    }
  },
  "cells": [
    {
      "cell_type": "markdown",
      "metadata": {
        "id": "view-in-github",
        "colab_type": "text"
      },
      "source": [
        "<a href=\"https://colab.research.google.com/github/chickenkundayo/PrimeFactorizationTool/blob/main/%E7%B4%A0%E5%9B%A0%E6%95%B0%E5%88%86%E8%A7%A3%E3%83%84%E3%83%BC%E3%83%AB.ipynb\" target=\"_parent\"><img src=\"https://colab.research.google.com/assets/colab-badge.svg\" alt=\"Open In Colab\"/></a>"
      ]
    },
    {
      "cell_type": "markdown",
      "metadata": {
        "id": "DVSvq3cBCwnZ"
      },
      "source": [
        "実行すると入力欄が出てくるので、素因数分解したい数値を半角文字で入力してエンターキーを押してください。"
      ]
    },
    {
      "cell_type": "code",
      "metadata": {
        "id": "SYrd7HikC8jK"
      },
      "source": [
        "def prime_factorization(n):\n",
        "    lis=[]\n",
        "    for i in range(2,int(n**0.5)+1):\n",
        "        while True:\n",
        "            if n%i == 0:\n",
        "                lis.append(i)\n",
        "                n = n//i\n",
        "            else:\n",
        "                break\n",
        "    if n > int(n**0.5):\n",
        "        lis.append(n)\n",
        "        \n",
        "    return lis\n",
        "\n",
        "n = int(input(\"素因数分解する数値を入力▷\"))\n",
        "\n",
        "print(prime_factorization(n))"
      ],
      "execution_count": null,
      "outputs": []
    }
  ]
}